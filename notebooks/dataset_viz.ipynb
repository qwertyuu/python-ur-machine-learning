{
 "cells": [
  {
   "cell_type": "code",
   "execution_count": null,
   "metadata": {
    "pycharm": {
     "name": "#%%\n"
    }
   },
   "outputs": [],
   "source": [
    "import pandas as pd\n",
    "import matplotlib.pyplot as plt\n",
    "plt.tight_layout()\n",
    "dataset = pd.read_parquet(\"../data/dataset_depth8_Sam_Raph_Sothatsit6_Kaggle.parquet\")\n",
    "len(dataset.index)"
   ]
  },
  {
   "cell_type": "code",
   "execution_count": null,
   "outputs": [],
   "source": [
    "dataset.astype({'light_turn': 'int32'}).hist(figsize=(20, 15))"
   ],
   "metadata": {
    "collapsed": false,
    "pycharm": {
     "name": "#%%\n"
    }
   }
  },
  {
   "cell_type": "code",
   "execution_count": null,
   "outputs": [],
   "source": [
    "pd.set_option('display.max_columns', None)\n",
    "dataset.astype({'light_turn': 'int32'}).describe()"
   ],
   "metadata": {
    "collapsed": false,
    "pycharm": {
     "name": "#%%\n"
    }
   }
  },
  {
   "cell_type": "code",
   "execution_count": null,
   "metadata": {
    "pycharm": {
     "name": "#%%\n"
    }
   },
   "outputs": [],
   "source": [
    "pd.set_option('display.max_columns', None)\n",
    "dataset.sample(n=10)"
   ]
  },
  {
   "cell_type": "code",
   "execution_count": null,
   "metadata": {
    "pycharm": {
     "name": "#%%\n"
    }
   },
   "outputs": [],
   "source": [
    "dataset.columns"
   ]
  },
  {
   "cell_type": "code",
   "execution_count": null,
   "metadata": {
    "pycharm": {
     "name": "#%%\n"
    }
   },
   "outputs": [],
   "source": [
    "dataset.dtypes"
   ]
  },
  {
   "cell_type": "code",
   "execution_count": null,
   "metadata": {
    "pycharm": {
     "name": "#%%\n"
    }
   },
   "outputs": [],
   "source": [
    "# use a fixed scale (1 to 2.5 let's say)\n",
    "#  DONE\n",
    "# Flip the scale for ranking (lower is better)\n",
    "#  DONE\n",
    "# Show the data WITH the colors\n",
    "#  DONE\n",
    "import numpy as np\n",
    "\n",
    "def show_heatmap(df_heatmap, prefix, suffix, cmap, vrange=None, threshold = 0, invert_colorbar = False):\n",
    "    if vrange is None:\n",
    "        vrange = [None, None]\n",
    "    fig, ax = plt.subplots()\n",
    "    if len(df_heatmap.index) < 8:\n",
    "        # Create new dataframe with NaN values\n",
    "        new_index = pd.Index([1, 2, 3, 4, 5, 6, 7, 8], name=df_heatmap.index.name)\n",
    "        new_df = pd.DataFrame(index=new_index, columns=df_heatmap.columns, dtype=float)\n",
    "        new_df[:] = np.nan\n",
    "\n",
    "        # Copy values from original dataframe\n",
    "        new_df.iloc[:len(df_heatmap.index), :] = df_heatmap.values\n",
    "\n",
    "        # Replace original dataframe with new dataframe\n",
    "        df_heatmap = new_df\n",
    "    im = ax.imshow(df_heatmap, cmap=cmap, interpolation='nearest', vmin=vrange[0], vmax=vrange[1])\n",
    "\n",
    "    # Add colorbar\n",
    "    cbar = ax.figure.colorbar(im, ax=ax)\n",
    "    if invert_colorbar:\n",
    "        cbar.ax.invert_yaxis()\n",
    "\n",
    "    # Set axis labels\n",
    "    ax.set_xticks(np.arange(3))\n",
    "    ax.set_yticks(np.arange(8))\n",
    "    ax.set_xticklabels([\"A\", \"B\", \"C\"])\n",
    "    ax.set_yticklabels(list(np.arange(8) + 1))\n",
    "\n",
    "    # Rotate x-axis labels\n",
    "    plt.setp(ax.get_xticklabels(), rotation=0, ha=\"center\", rotation_mode=\"anchor\")\n",
    "\n",
    "    # Loop over data dimensions and create text annotations.\n",
    "    for i in range(len(df_heatmap.index)):\n",
    "        for j in range(len(df_heatmap.columns)):\n",
    "            color = 'white' if df_heatmap.iloc[i, j] < threshold else 'black'\n",
    "            ax.text(j, i, round(df_heatmap.iloc[i, j], 2), ha=\"center\", va=\"center\", color=color)\n",
    "\n",
    "    # Add title\n",
    "    ax.set_title(f\"{prefix} of pawn of Expectimax depth 8 {suffix}\")\n",
    "\n",
    "    plt.show()\n",
    "\n",
    "def gen_df(dataset, df_type):\n",
    "    return {\n",
    "        'all': dataset.pivot_table(values=df_type, index='y', columns='x'),\n",
    "        '1': dataset.query(\"roll == 1\").pivot_table(values=df_type, index='y', columns='x'),\n",
    "        '2': dataset.query(\"roll == 2\").pivot_table(values=df_type, index='y', columns='x'),\n",
    "        '3': dataset.query(\"roll == 3\").pivot_table(values=df_type, index='y', columns='x'),\n",
    "        '4': dataset.query(\"roll == 4\").pivot_table(values=df_type, index='y', columns='x'),\n",
    "    }\n",
    "\n",
    "def show_all_df(dfs, prefix, all_rolls_string, specific_roll_string, cmap, ranges, **kwargs):\n",
    "    for v in dfs:\n",
    "        show_heatmap(dfs[v], prefix, all_rolls_string if v == 'all' else f\"{specific_roll_string} {v}\", cmap, ranges, **kwargs)"
   ]
  },
  {
   "cell_type": "code",
   "execution_count": null,
   "metadata": {
    "pycharm": {
     "name": "#%%\n"
    }
   },
   "outputs": [],
   "source": [
    "df_utility = gen_df(dataset, 'utility')"
   ]
  },
  {
   "cell_type": "code",
   "execution_count": null,
   "metadata": {
    "pycharm": {
     "name": "#%%\n"
    }
   },
   "outputs": [],
   "source": [
    "df_utility['all']"
   ]
  },
  {
   "cell_type": "code",
   "execution_count": null,
   "metadata": {
    "pycharm": {
     "name": "#%%\n"
    }
   },
   "outputs": [],
   "source": [
    "from matplotlib.colors import LinearSegmentedColormap\n",
    "colors = [(1, 0, 0), (1, 1, 0), (0, 1, 0)] # red, yellow, green\n",
    "cmap_name = 'my_colormap'\n",
    "cm = LinearSegmentedColormap.from_list(cmap_name, colors, N=256)\n",
    "colors.reverse()\n",
    "icm = LinearSegmentedColormap.from_list(cmap_name, colors, N=256)"
   ]
  },
  {
   "cell_type": "code",
   "execution_count": null,
   "metadata": {
    "pycharm": {
     "name": "#%%\n"
    },
    "scrolled": false
   },
   "outputs": [],
   "source": [
    "show_all_df(df_utility, \"Utility\", \"for all rolls\", \"for rolls of\", cm, (-1.5, 3))"
   ]
  },
  {
   "cell_type": "code",
   "execution_count": null,
   "metadata": {
    "pycharm": {
     "name": "#%%\n"
    }
   },
   "outputs": [],
   "source": [
    "df_rank = gen_df(dataset, 'rank')"
   ]
  },
  {
   "cell_type": "code",
   "execution_count": null,
   "metadata": {
    "pycharm": {
     "name": "#%%\n"
    },
    "scrolled": false
   },
   "outputs": [],
   "source": [
    "show_all_df(df_rank, \"Rank\", \"for all rolls\", \"for rolls of\", icm, (1, 2.5), invert_colorbar=True)"
   ]
  },
  {
   "cell_type": "code",
   "execution_count": null,
   "metadata": {
    "pycharm": {
     "name": "#%%\n"
    }
   },
   "outputs": [],
   "source": [
    "\"\"\"\n",
    "Ways to define the early game:\n",
    "\n",
    "- First player to get to the rosette\n",
    "- Both players have 6 or more pawns left to play\n",
    "\n",
    "Ways to define the end game:\n",
    "\n",
    "- Score of one of the players is at least 6\n",
    "\n",
    "\"\"\"\n",
    "\n",
    "df_early_game = dataset[(dataset[\"dark_left\"] > 4) & (dataset[\"light_left\"] > 4)]\n",
    "df_early_game_rolls_rank = gen_df(df_early_game, 'rank')\n",
    "\n",
    "df_end_game = dataset[(dataset[\"dark_score\"] > 5) | (dataset[\"light_score\"] > 5)]\n",
    "df_end_game_rolls_rank = gen_df(df_end_game, 'rank')"
   ]
  },
  {
   "cell_type": "code",
   "execution_count": null,
   "metadata": {
    "scrolled": false,
    "pycharm": {
     "name": "#%%\n"
    }
   },
   "outputs": [],
   "source": [
    "show_all_df(df_early_game_rolls_rank, \"Rank\", \"in early game for all rolls\", \"in early game for rolls of\", icm, (1, 2.5), invert_colorbar=True)"
   ]
  },
  {
   "cell_type": "code",
   "execution_count": null,
   "metadata": {
    "scrolled": false,
    "pycharm": {
     "name": "#%%\n"
    }
   },
   "outputs": [],
   "source": [
    "# red = end game is better than early game\n",
    "# green = early game is better than end game\n",
    "\n",
    "def diff_all_df(dict1, dict2):\n",
    "    return {\n",
    "        key: dict1[key] - dict2[key] for key in dict1.keys()\n",
    "    }\n",
    "\n",
    "def add_all_df(dict1, scalar):\n",
    "    return {\n",
    "        key: dict1[key] + scalar for key in dict1.keys()\n",
    "    }\n",
    "\n",
    "show_all_df(\n",
    "    # add 0.39, which is the difference in averages of the early and end game. \n",
    "    # This makes it so that the values are more aligned around 0\n",
    "    add_all_df(diff_all_df(df_early_game_rolls_rank, df_end_game_rolls_rank), 0.39),\n",
    "    \"Rank difference\",\n",
    "    \"in early game VS. end game for all rolls\",\n",
    "    \"in early game VS. end game for rolls of\",\n",
    "    icm,\n",
    "    (-0.8, 0.8),\n",
    "    invert_colorbar=True,\n",
    "    threshold=-2\n",
    ")"
   ]
  },
  {
   "cell_type": "code",
   "execution_count": null,
   "metadata": {
    "pycharm": {
     "name": "#%%\n"
    }
   },
   "outputs": [],
   "source": [
    "df_early_game[df_early_game[\"roll\"] == 2][\"rank\"].mean()"
   ]
  },
  {
   "cell_type": "code",
   "execution_count": null,
   "metadata": {
    "pycharm": {
     "name": "#%%\n"
    }
   },
   "outputs": [],
   "source": [
    "df_end_game[df_end_game[\"roll\"] == 2][\"rank\"].mean()"
   ]
  },
  {
   "cell_type": "code",
   "execution_count": null,
   "outputs": [],
   "source": [
    "2.174 - 1.785"
   ],
   "metadata": {
    "collapsed": false,
    "pycharm": {
     "name": "#%%\n"
    }
   }
  },
  {
   "cell_type": "code",
   "execution_count": null,
   "outputs": [],
   "source": [],
   "metadata": {
    "collapsed": false,
    "pycharm": {
     "name": "#%%\n"
    }
   }
  }
 ],
 "metadata": {
  "kernelspec": {
   "display_name": "Python 3 (ipykernel)",
   "language": "python",
   "name": "python3"
  },
  "language_info": {
   "codemirror_mode": {
    "name": "ipython",
    "version": 3
   },
   "file_extension": ".py",
   "mimetype": "text/x-python",
   "name": "python",
   "nbconvert_exporter": "python",
   "pygments_lexer": "ipython3",
   "version": "3.11.0"
  },
  "vscode": {
   "interpreter": {
    "hash": "34a8a3e6ffd0ce519e193b62e8dc2163aad602545a1fdb2dffeb1c5d0be1c6d5"
   }
  }
 },
 "nbformat": 4,
 "nbformat_minor": 2
}